{
  "nbformat": 4,
  "nbformat_minor": 0,
  "metadata": {
    "colab": {
      "provenance": [],
      "include_colab_link": true
    },
    "kernelspec": {
      "name": "python3",
      "display_name": "Python 3"
    },
    "language_info": {
      "name": "python"
    }
  },
  "cells": [
    {
      "cell_type": "markdown",
      "metadata": {
        "id": "view-in-github",
        "colab_type": "text"
      },
      "source": [
        "<a href=\"https://colab.research.google.com/github/jh4197610/git/blob/main/9%EA%B0%95_%EC%8B%A4%EC%8A%B5(%EC%9B%90%EB%B3%B8).ipynb\" target=\"_parent\"><img src=\"https://colab.research.google.com/assets/colab-badge.svg\" alt=\"Open In Colab\"/></a>"
      ]
    },
    {
      "cell_type": "markdown",
      "source": [
        "# 9강 1절"
      ],
      "metadata": {
        "id": "CAj_VKRq4Mhy"
      }
    },
    {
      "cell_type": "markdown",
      "source": [
        "**원뿔 부피 계산 함수 정의**"
      ],
      "metadata": {
        "id": "-0FrgkDm_YRK"
      }
    },
    {
      "cell_type": "code",
      "execution_count": 2,
      "metadata": {
        "id": "OhGWjvMSf_uP"
      },
      "outputs": [],
      "source": [
        "def prt_cone_vol(r,h):\n",
        "    if r > 0 and h > 0 :\n",
        "        # r, h 모두 양수일 때\n",
        "        vol = 1/3 * 3.14 * r ** 2 * h\n",
        "        print(\"원뿔의 부피는\", vol, \"입니다.\")\n",
        "    else :\n",
        "        # r, h가 음수일 때\n",
        "        print(\"반지름과 높이 값에 양수를 입력하세요\")\n"
      ]
    },
    {
      "cell_type": "markdown",
      "source": [
        "**원뿔 부피 계산 함수 호출**"
      ],
      "metadata": {
        "id": "ygj-h_dt_elG"
      }
    },
    {
      "cell_type": "code",
      "source": [
        "radius =20\n",
        "height = 30\n",
        "\n",
        "prt_cone_vol(radius, height)"
      ],
      "metadata": {
        "id": "Kgl7g457gFnj",
        "outputId": "3cc4b204-eb90-4597-bbf2-1b8355708fdc",
        "colab": {
          "base_uri": "https://localhost:8080/"
        }
      },
      "execution_count": 4,
      "outputs": [
        {
          "output_type": "stream",
          "name": "stdout",
          "text": [
            "원뿔의 부피는 12559.999999999998 입니다.\n"
          ]
        }
      ]
    },
    {
      "cell_type": "markdown",
      "source": [
        "**숫자를 입력받고 역순으로 출력하는 함수를 사용한 프로그램 문제**"
      ],
      "metadata": {
        "id": "3T0GpqYK_jXA"
      }
    },
    {
      "cell_type": "code",
      "source": [
        "def print_reverse(num) :\n",
        "    while num != 0 :\n",
        "        print(num % 10, end='')\n",
        "        num //= 10\n",
        "\n",
        "\n",
        "print_reverse(12345)"
      ],
      "metadata": {
        "id": "nsHHCmKB_pnQ",
        "outputId": "d104032c-1fbe-46b7-d804-fd468cb94cdb",
        "colab": {
          "base_uri": "https://localhost:8080/"
        }
      },
      "execution_count": 6,
      "outputs": [
        {
          "output_type": "stream",
          "name": "stdout",
          "text": [
            "54321"
          ]
        }
      ]
    },
    {
      "cell_type": "markdown",
      "source": [
        "# 9강 2절"
      ],
      "metadata": {
        "id": "bw1IBTsp4wMv"
      }
    },
    {
      "cell_type": "markdown",
      "source": [
        "**원뿔 부피 계산 결과 반환 함수 정의**"
      ],
      "metadata": {
        "id": "454aKvSdAI2a"
      }
    },
    {
      "cell_type": "code",
      "source": [
        "def rtn_cone_vol(r,h):\n",
        "    if r > 0 and h > 0 :\n",
        "        # r, h 모두 양수일 때\n",
        "        return 1/3 * 3.14 * r ** 2 * h\n",
        "\n",
        "    else :\n",
        "        # r, h가 음수일 때\n",
        "        print(\"반지름과 높이 값에 양수를 입력하세요\")\n",
        "print(format(rtn_cone_vol(10,20),\">10.2f\"))\n"
      ],
      "metadata": {
        "id": "X8lfqqRBAQfV",
        "outputId": "2c00258a-6675-449c-c8dc-3b0a492b56d6",
        "colab": {
          "base_uri": "https://localhost:8080/"
        }
      },
      "execution_count": 8,
      "outputs": [
        {
          "output_type": "stream",
          "name": "stdout",
          "text": [
            "   2093.33\n"
          ]
        }
      ]
    },
    {
      "cell_type": "markdown",
      "source": [
        "**원뿔 부피 및 겉넓이 반환 함수 정의**"
      ],
      "metadata": {
        "id": "Ae2D5Cal_szh"
      }
    },
    {
      "cell_type": "code",
      "source": [
        "def rtn_cone_vol_surf(r,h):\n",
        "    if r > 0 and h > 0 :\n",
        "        # r, h 모두 양수일 때\n",
        "        vol = 1/3 * 3.14 * r ** 2 * h\n",
        "        surf = 3.14 *r ** 2 + 3.14 * r * h\n",
        "        return vol, surf\n",
        "\n",
        "    else :\n",
        "        # r, h가 음수일 때\n",
        "        print(\"반지름과 높이 값에 양수를 입력하세요\")\n",
        "vol1, surf1 = rtn_cone_vol_surf(50,100)\n",
        "print(vol1)\n",
        "print(surf1)"
      ],
      "metadata": {
        "id": "cwZ6g1au45RD",
        "outputId": "744493d8-fd44-40d6-a00a-27f4f8132680",
        "colab": {
          "base_uri": "https://localhost:8080/"
        }
      },
      "execution_count": 11,
      "outputs": [
        {
          "output_type": "stream",
          "name": "stdout",
          "text": [
            "261666.66666666666\n",
            "23550.0\n"
          ]
        }
      ]
    },
    {
      "cell_type": "markdown",
      "source": [
        "**세 개의 사용자 입력을 오름차순으로 정렬하는 함수를 이용하여 정렬된 값을 출력하는 문제**\n"
      ],
      "metadata": {
        "id": "0FMNpd_4Ah9j"
      }
    },
    {
      "cell_type": "code",
      "source": [
        "a = int(input(\"첫번째 숫자를 입력하세요: \"))\n",
        "b = int(input(\"두번째 숫자를 입력하세요: \"))\n",
        "c = int(input(\"세번째 숫자를 입력하세요: \"))\n",
        "\n",
        "def sort3(a, b, c) :\n",
        "    if a > b :\n",
        "        a, b = b, a\n",
        "    if a > c :\n",
        "        a, c = c, a\n",
        "    if b > c :\n",
        "        b, c = c, b\n",
        "    print(a, b, c)\n",
        "sort3(a, b, c)"
      ],
      "metadata": {
        "id": "toh-zjeLArWn",
        "outputId": "562ab84f-d756-408d-fb43-bf9fcd60b3da",
        "colab": {
          "base_uri": "https://localhost:8080/"
        }
      },
      "execution_count": 20,
      "outputs": [
        {
          "output_type": "stream",
          "name": "stdout",
          "text": [
            "첫번째 숫자를 입력하세요: 2\n",
            "두번째 숫자를 입력하세요: 1\n",
            "세번째 숫자를 입력하세요: 7\n",
            "1 2 7\n"
          ]
        }
      ]
    },
    {
      "cell_type": "markdown",
      "source": [
        "# 9강 3절"
      ],
      "metadata": {
        "id": "7qOMFABd4y1t"
      }
    },
    {
      "cell_type": "markdown",
      "source": [
        "**값의 전달**"
      ],
      "metadata": {
        "id": "pVwxXsFLBCY-"
      }
    },
    {
      "cell_type": "code",
      "source": [
        "# 원뿔 계산 함수 정의\n",
        "def prt_cone_vol_surf(r = 20, h = 30) :\n",
        "    if r > 0 and h > 0 :\n",
        "        # r, h 모두 양수일 때\n",
        "        vol = 1/3 * 3.14 * r ** 2 * h\n",
        "        surf = 3.14 * r ** 2 + 3.14 * r * h\n",
        "        return vol, surf\n",
        "    else :\n",
        "        # r, h가 음수일 때\n",
        "        print(\"반지름과 높이 값에 양수를 입력하세요\")\n",
        "redius = 50\n",
        "height = 100\n",
        "vol1, surf1 = prt_cone_vol_surf(redius, height)\n",
        "print(vol1)\n",
        "print(surf1)\n",
        "print(redius, height)"
      ],
      "metadata": {
        "id": "cwoR_CQp45ti"
      },
      "execution_count": null,
      "outputs": []
    },
    {
      "cell_type": "markdown",
      "source": [
        "**변수의 스코프**"
      ],
      "metadata": {
        "id": "Wybq2K3yBJ8C"
      }
    },
    {
      "cell_type": "code",
      "source": [
        "x=1\n",
        "print(x)\n",
        "def inc(x):\n",
        "    x = x+1\n",
        "    print(x)\n",
        "inc(x)\n",
        "print(x)"
      ],
      "metadata": {
        "id": "6ZuNFN9BBWKR",
        "outputId": "6806304c-bb95-4feb-ecf2-69d1a8abe128",
        "colab": {
          "base_uri": "https://localhost:8080/"
        }
      },
      "execution_count": 25,
      "outputs": [
        {
          "output_type": "stream",
          "name": "stdout",
          "text": [
            "1\n",
            "2\n",
            "1\n"
          ]
        }
      ]
    },
    {
      "cell_type": "markdown",
      "source": [
        "**단위 원뿔(반지름 20, 높이 30)의 부피와 겉넓이를 출력하는 문제**"
      ],
      "metadata": {
        "id": "YDpFj9zqBL35"
      }
    },
    {
      "cell_type": "code",
      "source": [
        "# 원뿔 계산 함수 정의\n",
        "def prt_cone_vol_surf(r = 20, h = 30) :\n",
        "    if r > 0 and h > 0 :\n",
        "        # r, h 모두 양수일 때\n",
        "        vol = 1/3 * 3.14 * r ** 2 * h\n",
        "        surf = 3.14 * r ** 2 + 3.14 * r * h\n",
        "        return vol, surf\n",
        "    else :\n",
        "        # r, h가 음수일 때\n",
        "        print(\"반지름과 높이 값에 양수를 입력하세요\")\n",
        "\n",
        "vol1, surf1 = prt_cone_vol_surf()\n",
        "print(vol1)\n",
        "print(surf1)\n",
        "print(redius, height)"
      ],
      "metadata": {
        "id": "mzWTObQdBXHc",
        "outputId": "17058dad-a01f-471a-ad50-a6c587e55d4c",
        "colab": {
          "base_uri": "https://localhost:8080/"
        }
      },
      "execution_count": 28,
      "outputs": [
        {
          "output_type": "stream",
          "name": "stdout",
          "text": [
            "12559.999999999998\n",
            "3140.0\n",
            "50 100\n"
          ]
        }
      ]
    },
    {
      "cell_type": "markdown",
      "source": [
        "**여러개의 수를 입력받고 합과 평균을 반환하는는 var_sum_avg 함수를 사용하여, (20, 25, 10, 85, 100, 150)에 대한 합과 평균을 출력하는 프로그램을 작성하시오.**\n"
      ],
      "metadata": {
        "id": "WqqJAJ0ACOjj"
      }
    },
    {
      "cell_type": "code",
      "source": [
        "def var_sum_avg(*numbers):\n",
        "    sum = 0\n",
        "    cnt = 0\n",
        "    for i in numbers:\n",
        "        sum = sum + i\n",
        "        cnt =  cnt + 1\n",
        "    return sum, sum/cnt\n",
        "\n",
        "print(var_sum_avg(10, 20, 30 ,40))"
      ],
      "metadata": {
        "id": "GDZkR-SKCVth",
        "outputId": "42704e71-fb6d-4393-bad0-fbeddba04cb4",
        "colab": {
          "base_uri": "https://localhost:8080/"
        }
      },
      "execution_count": 36,
      "outputs": [
        {
          "output_type": "stream",
          "name": "stdout",
          "text": [
            "(100, 25.0)\n"
          ]
        }
      ]
    }
  ]
}